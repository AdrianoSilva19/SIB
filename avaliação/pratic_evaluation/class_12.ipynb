{
 "cells": [
  {
   "cell_type": "markdown",
   "source": [
    "Ex 12.2) Construção de uma rede neuronal para o dataset *breast-bin*."
   ],
   "metadata": {
    "collapsed": false
   }
  },
  {
   "cell_type": "code",
   "execution_count": 1,
   "outputs": [],
   "source": [
    "import numpy as np\n",
    "from src.si.io.csv_file import read_csv\n",
    "from sklearn.preprocessing import StandardScaler\n",
    "from src.si.metrics.cross_entropy import cross_entropy\n",
    "from src.si.model_selection.split import train_test_split\n",
    "from src.si.neural_network.layers import Dense\n",
    "from src.si.neural_network.relu_activation import ReLUActivation\n",
    "from src.si.neural_network.linear_activation import LinearActivation\n",
    "from src.si.neural_network.sigmoid_activation import SigmoidActivation\n",
    "from src.si.neural_network.soft_max_activation import SoftMaxActivation\n",
    "from src.si.neural_network.nn import NN"
   ],
   "metadata": {
    "collapsed": false
   }
  },
  {
   "cell_type": "code",
   "execution_count": 2,
   "outputs": [],
   "source": [
    "breast_bin_dataset = r\"C:\\Users\\35193\\Desktop\\sib\\SIB\\datasets\\breast-bin.csv\"\n",
    "data = read_csv(breast_bin_dataset, label=True)\n",
    "data.X = StandardScaler().fit_transform(data.X)\n",
    "data_train, data_test = train_test_split(data)"
   ],
   "metadata": {
    "collapsed": false
   }
  },
  {
   "cell_type": "code",
   "execution_count": 3,
   "outputs": [
    {
     "data": {
      "text/plain": "<src.si.neural_network.nn.NN at 0x1823d837190>"
     },
     "execution_count": 3,
     "metadata": {},
     "output_type": "execute_result"
    }
   ],
   "source": [
    "bb_layer1 = Dense(input_size=9, output_size=9)\n",
    "bb_layer2 = Dense(input_size=9, output_size=5)\n",
    "bb_layer3 = Dense(input_size=5, output_size=1)\n",
    "\n",
    "bb_layer1_activation = ReLUActivation()\n",
    "bb_layer2_activation = ReLUActivation()\n",
    "bb_layer3_activation = SigmoidActivation()\n",
    "\n",
    "bb_model = NN(layers=[bb_layer1, bb_layer1_activation, bb_layer2, bb_layer2_activation, bb_layer3, bb_layer3_activation])\n",
    "bb_model.fit(dataset=data_train)"
   ],
   "metadata": {
    "collapsed": false
   }
  },
  {
   "cell_type": "code",
   "execution_count": 4,
   "outputs": [
    {
     "data": {
      "text/plain": "array([[0.50000031],\n       [0.50000016],\n       [0.50000013],\n       [0.50000097],\n       [0.50000238],\n       [0.49999968],\n       [0.50000314],\n       [0.49999907],\n       [0.49999995],\n       [0.50000118]])"
     },
     "execution_count": 4,
     "metadata": {},
     "output_type": "execute_result"
    }
   ],
   "source": [
    "bb_model.predict(dataset=data_test)[:10]"
   ],
   "metadata": {
    "collapsed": false
   }
  },
  {
   "cell_type": "markdown",
   "source": [
    "Ex 12.3) Contrução de uma rede neuronal para o dataset *cpu*."
   ],
   "metadata": {
    "collapsed": false
   }
  },
  {
   "cell_type": "code",
   "execution_count": 5,
   "outputs": [
    {
     "data": {
      "text/plain": "array([[0.5       ],\n       [0.5       ],\n       [0.5       ],\n       [0.49999958],\n       [0.49999976],\n       [0.5       ],\n       [0.49999971],\n       [0.49999972],\n       [0.49999917],\n       [0.5       ]])"
     },
     "execution_count": 5,
     "metadata": {},
     "output_type": "execute_result"
    }
   ],
   "source": [
    "cpu_path = r\"C:\\Users\\35193\\Desktop\\sib\\SIB\\datasets\\cpu.csv\"\n",
    "cpu_data = read_csv(cpu_path, features=True, label=True)\n",
    "cpu_data.X = StandardScaler().fit_transform(cpu_data.X)\n",
    "train, test = train_test_split(cpu_data)\n",
    "layer1 = Dense(input_size=6, output_size=6)\n",
    "layer2 = Dense(input_size=6, output_size=4)\n",
    "layer3 = Dense(input_size=4, output_size=1)\n",
    "\n",
    "layer1_activation = ReLUActivation()\n",
    "layer2_activation = ReLUActivation()\n",
    "layer3_activation = SigmoidActivation()\n",
    "\n",
    "model = NN(layers=[layer1, layer1_activation, layer2, layer2_activation, layer3, layer3_activation])\n",
    "model.fit(train)\n",
    "model.predict(train)[:10]"
   ],
   "metadata": {
    "collapsed": false
   }
  }
 ],
 "metadata": {
  "kernelspec": {
   "display_name": "Python 3",
   "language": "python",
   "name": "python3"
  },
  "language_info": {
   "codemirror_mode": {
    "name": "ipython",
    "version": 2
   },
   "file_extension": ".py",
   "mimetype": "text/x-python",
   "name": "python",
   "nbconvert_exporter": "python",
   "pygments_lexer": "ipython2",
   "version": "2.7.6"
  }
 },
 "nbformat": 4,
 "nbformat_minor": 0
}
