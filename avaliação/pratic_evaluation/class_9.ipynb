{
 "cells": [
  {
   "cell_type": "code",
   "execution_count": 1,
   "metadata": {
    "collapsed": true
   },
   "outputs": [],
   "source": [
    "from src.si.neural_network.layers import Dense\n",
    "from src.si.neural_network.nn import NN\n",
    "from src.si.neural_network.sigmoid_activation import SigmoidActivation\n",
    "from src.si.neural_network.soft_max_activation import SoftMaxActivation\n",
    "from src.si.neural_network.relu_activation import ReLUActivation\n",
    "from src.si.neural_network.linear_activation import LinearActivation\n",
    "\n",
    "from src.si.data.dataset import Dataset\n",
    "import numpy as np"
   ]
  },
  {
   "cell_type": "code",
   "execution_count": 2,
   "outputs": [
    {
     "data": {
      "text/plain": "   x1  x2\n1   0   0\n0   0   1\n0   1   0\n1   1   1",
      "text/html": "<div>\n<style scoped>\n    .dataframe tbody tr th:only-of-type {\n        vertical-align: middle;\n    }\n\n    .dataframe tbody tr th {\n        vertical-align: top;\n    }\n\n    .dataframe thead th {\n        text-align: right;\n    }\n</style>\n<table border=\"1\" class=\"dataframe\">\n  <thead>\n    <tr style=\"text-align: right;\">\n      <th></th>\n      <th>x1</th>\n      <th>x2</th>\n    </tr>\n  </thead>\n  <tbody>\n    <tr>\n      <th>1</th>\n      <td>0</td>\n      <td>0</td>\n    </tr>\n    <tr>\n      <th>0</th>\n      <td>0</td>\n      <td>1</td>\n    </tr>\n    <tr>\n      <th>0</th>\n      <td>1</td>\n      <td>0</td>\n    </tr>\n    <tr>\n      <th>1</th>\n      <td>1</td>\n      <td>1</td>\n    </tr>\n  </tbody>\n</table>\n</div>"
     },
     "execution_count": 2,
     "metadata": {},
     "output_type": "execute_result"
    }
   ],
   "source": [
    "x = np.array([[0,0],\n",
    "              [0,1],\n",
    "              [1,0],\n",
    "              [1,1]])\n",
    "\n",
    "y = np.array([1,\n",
    "              0,\n",
    "              0,\n",
    "              1])\n",
    "\n",
    "dataset = Dataset(X=x, y=y, features=['x1', 'x2'], label='x1 XNOR x2')\n",
    "dataset.print_dataframe()"
   ],
   "metadata": {
    "collapsed": false
   }
  },
  {
   "cell_type": "code",
   "execution_count": 3,
   "outputs": [],
   "source": [
    "l1_weight_matrix = np.array([[20, -20],\n",
    "                             [20, -20]])\n",
    "\n",
    "l1_bias = np.array([[-30, 10]])\n",
    "\n",
    "layer1 = Dense(input_size=2, output_size=2)\n",
    "layer1.weights = l1_weight_matrix\n",
    "layer1.bias = l1_bias\n",
    "\n",
    "# weights and bias for the 2nd layer\n",
    "\n",
    "l2_weight_matrix = np.array([[20],\n",
    "                             [20]])\n",
    "\n",
    "l2_bias = np.array([[-10]])\n",
    "\n",
    "layer2 = Dense(input_size=2, output_size=1)\n",
    "layer2.weights = l2_weight_matrix\n",
    "layer2.bias = l2_bias"
   ],
   "metadata": {
    "collapsed": false
   }
  },
  {
   "cell_type": "code",
   "execution_count": 4,
   "outputs": [],
   "source": [
    "layer1_sigmoid = SigmoidActivation()\n",
    "layer2_sigmoid = SigmoidActivation()\n",
    "\n",
    "# between layers, we have the layer activation\n",
    "nn_model = NN(\n",
    "    layers=[layer1, layer1_sigmoid, layer2, layer2_sigmoid]\n",
    ")"
   ],
   "metadata": {
    "collapsed": false
   }
  },
  {
   "cell_type": "code",
   "execution_count": 5,
   "outputs": [
    {
     "data": {
      "text/plain": "<src.si.neural_network.nn.NN at 0x184ab6daf20>"
     },
     "execution_count": 5,
     "metadata": {},
     "output_type": "execute_result"
    }
   ],
   "source": [
    "nn_model.fit(dataset=dataset)"
   ],
   "metadata": {
    "collapsed": false
   }
  },
  {
   "cell_type": "code",
   "execution_count": 6,
   "outputs": [
    {
     "data": {
      "text/plain": "array([[9.99954561e-01],\n       [4.54803785e-05],\n       [4.54803785e-05],\n       [9.99954561e-01]])"
     },
     "execution_count": 6,
     "metadata": {},
     "output_type": "execute_result"
    }
   ],
   "source": [
    "nn_model.predict(dataset=dataset)"
   ],
   "metadata": {
    "collapsed": false
   }
  },
  {
   "cell_type": "markdown",
   "source": [
    "## Ex.10 Avaliação"
   ],
   "metadata": {
    "collapsed": false
   }
  },
  {
   "cell_type": "code",
   "execution_count": 7,
   "outputs": [],
   "source": [
    "x_3 = np.random.randn(100, 32)  # 100 samples with 32 features of random floats\n",
    "y_3 = np.random.randint(0, 2, size=(100, 1))  # labels for the 100 samples of random binary integers\n",
    "\n",
    "dataset_3 = Dataset(x_3, y_3)"
   ],
   "metadata": {
    "collapsed": false
   }
  },
  {
   "cell_type": "code",
   "execution_count": 8,
   "outputs": [],
   "source": [
    "layer3_1 = Dense(input_size=32, output_size=32)\n",
    "layer3_2 = Dense(input_size=32, output_size=16)\n",
    "layer3_3 = Dense(input_size=16, output_size=1)  #if score is <0.5 the output is 0, and if score is >0.5 the output is 1\n",
    "\n",
    "layer3_1activation = SigmoidActivation()\n",
    "layer3_2activation = SigmoidActivation()\n",
    "layer3_3activation= SigmoidActivation()\n",
    "\n",
    "# between layers, we have the layer activation\n",
    "nn_model3 = NN(\n",
    "    layers=[layer3_1, layer3_1activation, layer3_2, layer3_2activation, layer3_3, layer3_3activation]\n",
    ")"
   ],
   "metadata": {
    "collapsed": false
   }
  },
  {
   "cell_type": "code",
   "execution_count": 9,
   "outputs": [
    {
     "data": {
      "text/plain": "<src.si.neural_network.nn.NN at 0x184ab7292d0>"
     },
     "execution_count": 9,
     "metadata": {},
     "output_type": "execute_result"
    }
   ],
   "source": [
    "nn_model3.fit(dataset=dataset_3)"
   ],
   "metadata": {
    "collapsed": false
   }
  },
  {
   "cell_type": "code",
   "execution_count": 10,
   "outputs": [
    {
     "data": {
      "text/plain": "array([[0.49242084],\n       [0.49242589],\n       [0.49242025],\n       [0.49242132],\n       [0.49241914],\n       [0.49242228],\n       [0.49242101],\n       [0.4924231 ],\n       [0.49242327],\n       [0.49242034]])"
     },
     "execution_count": 10,
     "metadata": {},
     "output_type": "execute_result"
    }
   ],
   "source": [
    "nn_model3.predict(dataset=dataset_3)[:10]"
   ],
   "metadata": {
    "collapsed": false
   }
  },
  {
   "cell_type": "markdown",
   "source": [
    "Classificação de um problema multiclass"
   ],
   "metadata": {
    "collapsed": false
   }
  },
  {
   "cell_type": "code",
   "execution_count": 11,
   "outputs": [],
   "source": [
    "# Create an adequate training dataset\n",
    "x_4 = np.random.randn(100, 32)  # 100 samples with 32 features of random floats\n",
    "y_4 = np.random.randint(0, 3, size=(100, 1))  # labels for the 100 samples with 3 different classes\n",
    "\n",
    "dataset_4 = Dataset(x_4, y_4)"
   ],
   "metadata": {
    "collapsed": false
   }
  },
  {
   "cell_type": "code",
   "execution_count": 12,
   "outputs": [],
   "source": [
    "layer4_1 = Dense(input_size=32, output_size=32)\n",
    "layer4_2 = Dense(input_size=32, output_size=16)\n",
    "layer4_3 = Dense(input_size=16, output_size=3)  # will assign each output to the corresponding class according to the score\n",
    "\n",
    "layer4_1activation = SigmoidActivation()\n",
    "layer4_2activation= SigmoidActivation()\n",
    "layer4_3activation = SoftMaxActivation()  # will assign a probability to each class that summed together will add up to 1\n",
    "\n",
    "# between layers, we have the layer activation\n",
    "nn_model4 = NN(\n",
    "    layers=[layer4_1, layer4_1activation, layer4_2, layer4_2activation, layer4_3, layer4_3activation]\n",
    ")"
   ],
   "metadata": {
    "collapsed": false
   }
  },
  {
   "cell_type": "code",
   "execution_count": 13,
   "outputs": [
    {
     "data": {
      "text/plain": "<src.si.neural_network.nn.NN at 0x184ab72a0e0>"
     },
     "execution_count": 13,
     "metadata": {},
     "output_type": "execute_result"
    }
   ],
   "source": [
    "nn_model4.fit(dataset=dataset_4)"
   ],
   "metadata": {
    "collapsed": false
   }
  },
  {
   "cell_type": "code",
   "execution_count": 14,
   "outputs": [
    {
     "data": {
      "text/plain": "array([[0.3324728 , 0.33832527, 0.32920193],\n       [0.33247027, 0.3383288 , 0.32920093],\n       [0.33247258, 0.33832313, 0.3292043 ],\n       [0.33247133, 0.33832635, 0.32920232],\n       [0.33247093, 0.33833005, 0.32919903],\n       [0.33247156, 0.33832601, 0.32920242],\n       [0.33247033, 0.33832705, 0.32920262],\n       [0.33246971, 0.33832381, 0.32920648],\n       [0.33247191, 0.33832432, 0.32920376],\n       [0.33246986, 0.33832746, 0.32920268]])"
     },
     "execution_count": 14,
     "metadata": {},
     "output_type": "execute_result"
    }
   ],
   "source": [
    "nn_model4.predict(dataset=dataset_4)[:10]"
   ],
   "metadata": {
    "collapsed": false
   }
  },
  {
   "cell_type": "markdown",
   "source": [
    "Problema de regressão"
   ],
   "metadata": {
    "collapsed": false
   }
  },
  {
   "cell_type": "code",
   "execution_count": 15,
   "outputs": [],
   "source": [
    "# Create an adequate training dataset\n",
    "x_5 = np.random.randn(100, 32)  # 100 samples with 32 features of random floats\n",
    "y_5 = np.random.randn(100, 1)  # labels for the 100 samples of random floats\n",
    "\n",
    "dataset_5 = Dataset(x_5, y_5)"
   ],
   "metadata": {
    "collapsed": false
   }
  },
  {
   "cell_type": "code",
   "execution_count": 16,
   "outputs": [],
   "source": [
    "layer5_1 = Dense(input_size=32, output_size=32)\n",
    "layer5_2 = Dense(input_size=32, output_size=16)\n",
    "layer5_3 = Dense(input_size=16, output_size=1)  # returns a single continuous target for each sample\n",
    "\n",
    "layer5_1activation = ReLUActivation()\n",
    "layer5_2activation = ReLUActivation()\n",
    "layer5_3activation = LinearActivation()  # returns a real values for our output\n",
    "\n",
    "# between layers, we have the layer activation\n",
    "nn_model5 = NN(\n",
    "    layers=[layer5_1, layer5_1activation, layer5_2, layer5_2activation, layer5_3, layer5_3activation]\n",
    ")"
   ],
   "metadata": {
    "collapsed": false
   }
  },
  {
   "cell_type": "code",
   "execution_count": 17,
   "outputs": [
    {
     "data": {
      "text/plain": "<src.si.neural_network.nn.NN at 0x184ab7299f0>"
     },
     "execution_count": 17,
     "metadata": {},
     "output_type": "execute_result"
    }
   ],
   "source": [
    "nn_model5.fit(dataset=dataset_5)"
   ],
   "metadata": {
    "collapsed": false
   }
  },
  {
   "cell_type": "code",
   "execution_count": 19,
   "outputs": [
    {
     "data": {
      "text/plain": "array([[-1.27727785e-06],\n       [ 9.30894269e-05],\n       [ 2.26287800e-05],\n       [ 4.93581201e-05],\n       [ 7.76152236e-05],\n       [ 7.55063162e-05],\n       [ 8.07808013e-05],\n       [ 8.11248888e-05],\n       [ 3.11254314e-05],\n       [ 1.16520067e-04]])"
     },
     "execution_count": 19,
     "metadata": {},
     "output_type": "execute_result"
    }
   ],
   "source": [
    "nn_model5.predict(dataset=dataset_5)[:10]"
   ],
   "metadata": {
    "collapsed": false
   }
  }
 ],
 "metadata": {
  "kernelspec": {
   "display_name": "Python 3",
   "language": "python",
   "name": "python3"
  },
  "language_info": {
   "codemirror_mode": {
    "name": "ipython",
    "version": 2
   },
   "file_extension": ".py",
   "mimetype": "text/x-python",
   "name": "python",
   "nbconvert_exporter": "python",
   "pygments_lexer": "ipython2",
   "version": "2.7.6"
  }
 },
 "nbformat": 4,
 "nbformat_minor": 0
}
