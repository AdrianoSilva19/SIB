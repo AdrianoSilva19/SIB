{
 "cells": [
  {
   "cell_type": "markdown",
   "source": [
    "## Teste Cross Validate"
   ],
   "metadata": {
    "collapsed": false
   }
  },
  {
   "cell_type": "code",
   "execution_count": 1,
   "outputs": [],
   "source": [
    "from src.si.io.csv_file import read_csv\n",
    "from sklearn.preprocessing import StandardScaler\n",
    "from src.si.model_selection.cross_validate import cross_validate\n",
    "from src.si.model_selection.grid_search import grid_search_cv\n",
    "from src.si.model_selection.randomize_grid_search import randomized_search_cv\n",
    "from src.si.linear_model.logistic_regression import LogisticRegression\n",
    "import numpy as np"
   ],
   "metadata": {
    "collapsed": false
   }
  },
  {
   "cell_type": "code",
   "execution_count": 3,
   "outputs": [
    {
     "data": {
      "text/plain": "{'seeds': [965, 116, 45, 612, 421],\n 'train': [0.9695885509838998,\n  0.9677996422182469,\n  0.9713774597495528,\n  0.964221824686941,\n  0.9731663685152058],\n 'test': [0.9568345323741008,\n  0.9640287769784173,\n  0.9496402877697842,\n  0.9784172661870504,\n  0.9424460431654677]}"
     },
     "execution_count": 3,
     "metadata": {},
     "output_type": "execute_result"
    }
   ],
   "source": [
    "dataset = read_csv(r\"C:\\Users\\35193\\Desktop\\sib\\SIB\\datasets\\breast-bin.csv\",label=True)\n",
    "dataset.X = StandardScaler().fit_transform(dataset.X)\n",
    "lg_model = LogisticRegression()\n",
    "score = cross_validate(lg_model, dataset=dataset,cv=5)\n",
    "score"
   ],
   "metadata": {
    "collapsed": false
   }
  },
  {
   "cell_type": "markdown",
   "source": [
    "## Grid Search test"
   ],
   "metadata": {
    "collapsed": false
   }
  },
  {
   "cell_type": "code",
   "execution_count": 5,
   "outputs": [
    {
     "data": {
      "text/plain": "[{'seeds': [433, 141, 550],\n  'train': [0.960644007155635, 0.962432915921288, 0.9677996422182469],\n  'test': [0.9928057553956835, 0.9856115107913669, 0.9640287769784173],\n  'parameters': {'l2_penalty': 1, 'alpha': 0.001, 'max_iter': 1000}},\n {'seeds': [965, 116, 45],\n  'train': [0.9695885509838998, 0.9695885509838998, 0.9713774597495528],\n  'test': [0.9568345323741008, 0.9640287769784173, 0.9496402877697842],\n  'parameters': {'l2_penalty': 1, 'alpha': 0.001, 'max_iter': 2000}},\n {'seeds': [612, 421, 700],\n  'train': [0.964221824686941, 0.9731663685152058, 0.964221824686941],\n  'test': [0.9784172661870504, 0.9424460431654677, 0.9784172661870504],\n  'parameters': {'l2_penalty': 1, 'alpha': 0.0001, 'max_iter': 1000}},\n {'seeds': [555, 572, 70],\n  'train': [0.9695885509838998, 0.9731663685152058, 0.964221824686941],\n  'test': [0.9568345323741008, 0.9424460431654677, 0.9784172661870504],\n  'parameters': {'l2_penalty': 1, 'alpha': 0.0001, 'max_iter': 2000}},\n {'seeds': [768, 128, 827],\n  'train': [0.964221824686941, 0.9695885509838998, 0.9695885509838998],\n  'test': [0.9784172661870504, 0.9568345323741008, 0.9568345323741008],\n  'parameters': {'l2_penalty': 10, 'alpha': 0.001, 'max_iter': 1000}},\n {'seeds': [331, 433, 141],\n  'train': [0.9660107334525939, 0.962432915921288, 0.962432915921288],\n  'test': [0.9784172661870504, 0.9928057553956835, 0.9856115107913669],\n  'parameters': {'l2_penalty': 10, 'alpha': 0.001, 'max_iter': 2000}},\n {'seeds': [550, 965, 116],\n  'train': [0.9677996422182469, 0.9695885509838998, 0.9677996422182469],\n  'test': [0.9640287769784173, 0.9568345323741008, 0.9640287769784173],\n  'parameters': {'l2_penalty': 10, 'alpha': 0.0001, 'max_iter': 1000}},\n {'seeds': [45, 612, 421],\n  'train': [0.9713774597495528, 0.964221824686941, 0.9731663685152058],\n  'test': [0.9496402877697842, 0.9784172661870504, 0.9424460431654677],\n  'parameters': {'l2_penalty': 10, 'alpha': 0.0001, 'max_iter': 2000}}]"
     },
     "execution_count": 5,
     "metadata": {},
     "output_type": "execute_result"
    }
   ],
   "source": [
    "lg_model = LogisticRegression()\n",
    "lg_model_parameters = {'l2_penalty': [1, 10],\n",
    "             'alpha': [0.001, 0.0001],\n",
    "            'max_iter': [1000, 2000]}\n",
    "\n",
    "scores = grid_search_cv(lg_model, dataset, lg_model_parameters, cv=3)\n",
    "scores"
   ],
   "metadata": {
    "collapsed": false
   }
  },
  {
   "cell_type": "markdown",
   "source": [
    "## Randomized Search test"
   ],
   "metadata": {
    "collapsed": false
   }
  },
  {
   "cell_type": "code",
   "execution_count": 6,
   "outputs": [
    {
     "data": {
      "text/plain": "{'parameters': [{'l2_penalty': 8.0,\n   'alpha': 0.0008818181818181819,\n   'max_iter': 1025.1256281407036},\n  {'l2_penalty': 4.0,\n   'alpha': 0.0005454545454545455,\n   'max_iter': 1874.3718592964824},\n  {'l2_penalty': 3.0,\n   'alpha': 0.0002909090909090909,\n   'max_iter': 1934.6733668341708},\n  {'l2_penalty': 9.0,\n   'alpha': 0.0005181818181818182,\n   'max_iter': 1693.4673366834172},\n  {'l2_penalty': 8.0, 'alpha': 0.0001, 'max_iter': 1587.9396984924624},\n  {'l2_penalty': 3.0,\n   'alpha': 0.0004090909090909091,\n   'max_iter': 1904.5226130653268},\n  {'l2_penalty': 7.0,\n   'alpha': 0.0007272727272727272,\n   'max_iter': 1673.3668341708544},\n  {'l2_penalty': 1.0,\n   'alpha': 0.0008818181818181819,\n   'max_iter': 1994.9748743718594},\n  {'l2_penalty': 9.0,\n   'alpha': 0.0005181818181818182,\n   'max_iter': 1155.7788944723618},\n  {'l2_penalty': 1.0,\n   'alpha': 0.00011818181818181817,\n   'max_iter': 1025.1256281407036}],\n 'seeds': [592, 283, 783, 255, 134, 51, 51, 37, 777, 30],\n 'train': [[0.964221824686941, 0.9695885509838998, 0.9731663685152058],\n  [0.964221824686941, 0.964221824686941, 0.9695885509838998],\n  [0.9695885509838998, 0.964221824686941, 0.960644007155635],\n  [0.962432915921288, 0.9677996422182469, 0.9695885509838998],\n  [0.9677996422182469, 0.9713774597495528, 0.964221824686941],\n  [0.9731663685152058, 0.964221824686941, 0.9695885509838998],\n  [0.9731663685152058, 0.9660107334525939, 0.964221824686941],\n  [0.9695885509838998, 0.9695885509838998, 0.9660107334525939],\n  [0.960644007155635, 0.962432915921288, 0.9677996422182469],\n  [0.9695885509838998, 0.9677996422182469, 0.9713774597495528]],\n 'test': [[0.9784172661870504, 0.9568345323741008, 0.9424460431654677],\n  [0.9784172661870504, 0.9784172661870504, 0.9568345323741008],\n  [0.9568345323741008, 0.9784172661870504, 0.9928057553956835],\n  [0.9856115107913669, 0.9640287769784173, 0.9568345323741008],\n  [0.9640287769784173, 0.9496402877697842, 0.9784172661870504],\n  [0.9424460431654677, 0.9784172661870504, 0.9568345323741008],\n  [0.9424460431654677, 0.9784172661870504, 0.9784172661870504],\n  [0.9568345323741008, 0.9568345323741008, 0.9784172661870504],\n  [0.9928057553956835, 0.9856115107913669, 0.9640287769784173],\n  [0.9568345323741008, 0.9640287769784173, 0.9496402877697842]]}"
     },
     "execution_count": 6,
     "metadata": {},
     "output_type": "execute_result"
    }
   ],
   "source": [
    "lg_model = LogisticRegression()\n",
    "\n",
    "lg_model_parameters = {'l2_penalty': np.linspace(1, 10, 10),\n",
    "             'alpha': np.linspace(0.001, 0.0001, 100),\n",
    "            'max_iter': np.linspace(1000, 2000, 200)}\n",
    "\n",
    "scores = randomized_search_cv(lg_model, dataset, lg_model_parameters, cv=3)\n",
    "scores"
   ],
   "metadata": {
    "collapsed": false
   }
  }
 ],
 "metadata": {
  "kernelspec": {
   "display_name": "Python 3",
   "language": "python",
   "name": "python3"
  },
  "language_info": {
   "codemirror_mode": {
    "name": "ipython",
    "version": 2
   },
   "file_extension": ".py",
   "mimetype": "text/x-python",
   "name": "python",
   "nbconvert_exporter": "python",
   "pygments_lexer": "ipython2",
   "version": "2.7.6"
  }
 },
 "nbformat": 4,
 "nbformat_minor": 0
}
