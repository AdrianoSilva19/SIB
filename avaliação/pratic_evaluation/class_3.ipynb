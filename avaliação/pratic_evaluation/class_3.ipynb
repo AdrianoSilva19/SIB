{
 "cells": [
  {
   "cell_type": "markdown",
   "source": [
    "### Exercicio 3: Implementação do PCA e testagem no dataset iris"
   ],
   "metadata": {
    "collapsed": false
   }
  },
  {
   "cell_type": "code",
   "execution_count": 5,
   "outputs": [
    {
     "data": {
      "text/plain": "array([[ 0.36158968, -0.08226889,  0.85657211,  0.35884393],\n       [-0.65653988, -0.72971237,  0.1757674 ,  0.07470647],\n       [ 0.58099728, -0.59641809, -0.07252408, -0.54906091]])"
     },
     "execution_count": 5,
     "metadata": {},
     "output_type": "execute_result"
    }
   ],
   "source": [
    "from src.si.decomposition.pca import PCA\n",
    "from src.si.io.csv_file import read_csv\n",
    "\n",
    "file = r\"C:\\Users\\35193\\Desktop\\sib\\SIB\\datasets\\iris.csv\"\n",
    "data = read_csv(filename=file,label=True, features=True)\n",
    "test = PCA(n_components=3)\n",
    "test.fit_transform(data)\n",
    "test.components"
   ],
   "metadata": {
    "collapsed": false
   }
  },
  {
   "cell_type": "code",
   "execution_count": 10,
   "outputs": [
    {
     "data": {
      "text/plain": "array([4.22484077, 0.24224357, 0.07852391])"
     },
     "execution_count": 10,
     "metadata": {},
     "output_type": "execute_result"
    }
   ],
   "source": [
    "test.explained_variance"
   ],
   "metadata": {
    "collapsed": false
   }
  },
  {
   "cell_type": "code",
   "execution_count": 9,
   "outputs": [
    {
     "data": {
      "text/plain": "array([5.84333333, 3.054     , 3.75866667, 1.19866667])"
     },
     "execution_count": 9,
     "metadata": {},
     "output_type": "execute_result"
    }
   ],
   "source": [
    "test.mean"
   ],
   "metadata": {
    "collapsed": false
   }
  }
 ],
 "metadata": {
  "kernelspec": {
   "display_name": "Python 3",
   "language": "python",
   "name": "python3"
  },
  "language_info": {
   "codemirror_mode": {
    "name": "ipython",
    "version": 2
   },
   "file_extension": ".py",
   "mimetype": "text/x-python",
   "name": "python",
   "nbconvert_exporter": "python",
   "pygments_lexer": "ipython2",
   "version": "2.7.6"
  }
 },
 "nbformat": 4,
 "nbformat_minor": 0
}
