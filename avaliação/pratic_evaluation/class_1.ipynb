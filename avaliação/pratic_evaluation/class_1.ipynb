{
 "cells": [
  {
   "cell_type": "markdown",
   "source": [
    "## Evaluation of the practice from class 1"
   ],
   "metadata": {
    "collapsed": false
   }
  },
  {
   "cell_type": "markdown",
   "source": [
    "Exercicio 1.1: Carregar o ficheiro com o metodo *read* apropriado"
   ],
   "metadata": {
    "collapsed": false
   }
  },
  {
   "cell_type": "code",
   "execution_count": 34,
   "outputs": [],
   "source": [
    "from src.si.data.dataset import Dataset\n",
    "import pandas as pd\n",
    "\n",
    "data = pd.read_csv(r\"C:\\Users\\35193\\Desktop\\sib\\SIB\\datasets\\iris_missing_data.csv\",\n",
    "                sep=\",\")"
   ],
   "metadata": {
    "collapsed": false
   }
  },
  {
   "cell_type": "code",
   "execution_count": 35,
   "outputs": [
    {
     "name": "stdout",
     "output_type": "stream",
     "text": [
      "     sepal_length  sepal_width  petal_length  petal_width           class\n",
      "0             5.1          3.5           1.4          0.2     Iris-setosa\n",
      "1             4.9          3.0           1.4          0.2     Iris-setosa\n",
      "2             4.7          NaN           1.3          0.2     Iris-setosa\n",
      "3             4.6          3.1           1.5          0.2     Iris-setosa\n",
      "4             5.0          3.6           1.4          0.2     Iris-setosa\n",
      "..            ...          ...           ...          ...             ...\n",
      "145           6.7          3.0           5.2          2.3  Iris-virginica\n",
      "146           NaN          2.5           5.0          1.9  Iris-virginica\n",
      "147           6.5          3.0           5.2          2.0  Iris-virginica\n",
      "148           NaN          3.4           5.4          2.3  Iris-virginica\n",
      "149           5.9          3.0           5.1          1.8  Iris-virginica\n",
      "\n",
      "[150 rows x 5 columns]\n"
     ]
    }
   ],
   "source": [
    "print(data)"
   ],
   "metadata": {
    "collapsed": false
   }
  },
  {
   "cell_type": "markdown",
   "source": [
    "Exercicio 1.2: Selecionar a primeira variavel independente e verificar a sua dimensão"
   ],
   "metadata": {
    "collapsed": false
   }
  },
  {
   "cell_type": "code",
   "execution_count": 36,
   "outputs": [
    {
     "data": {
      "text/plain": "(150,)"
     },
     "execution_count": 36,
     "metadata": {},
     "output_type": "execute_result"
    }
   ],
   "source": [
    "first_variable = data[\"sepal_length\"]\n",
    "first_variable.shape"
   ],
   "metadata": {
    "collapsed": false
   }
  },
  {
   "cell_type": "raw",
   "source": [
    "150 entradas para uma coluna"
   ],
   "metadata": {
    "collapsed": false
   }
  },
  {
   "cell_type": "markdown",
   "source": [
    "Exercicio 1.3: Selecionar as ultimas 5 amostras do dataset. Qual a media das mesmas para cada Feature?\n"
   ],
   "metadata": {
    "collapsed": false
   }
  },
  {
   "cell_type": "code",
   "execution_count": 37,
   "outputs": [
    {
     "data": {
      "text/plain": "sepal_length    6.366667\nsepal_width     2.980000\npetal_length    5.180000\npetal_width     2.060000\ndtype: float64"
     },
     "execution_count": 37,
     "metadata": {},
     "output_type": "execute_result"
    }
   ],
   "source": [
    "# ultimas 5 amostra é o mesmo que a tail\n",
    "\n",
    "last_five = data.tail()\n",
    "last_five.mean(numeric_only=True,axis=0)"
   ],
   "metadata": {
    "collapsed": false
   }
  },
  {
   "cell_type": "markdown",
   "source": [
    "Exercicio 1.4: Selecionar todas as amostras do dataset com valor superior ou igual a 1 para todas as Features."
   ],
   "metadata": {
    "collapsed": false
   }
  },
  {
   "cell_type": "code",
   "execution_count": 38,
   "outputs": [
    {
     "data": {
      "text/plain": "sepal_length    6.275556\nsepal_width     2.875556\npetal_length    4.916667\npetal_width     1.672222\ndtype: float64"
     },
     "execution_count": 38,
     "metadata": {},
     "output_type": "execute_result"
    }
   ],
   "source": [
    "above_one= data.loc[(data[\"sepal_length\"]>=1) & (data[\"sepal_width\"]>=1) & (data[\"petal_width\"]>=1) & (data[\"petal_length\"]>=1)]\n",
    "above_one.mean(numeric_only=True,axis=0)"
   ],
   "metadata": {
    "collapsed": false
   }
  },
  {
   "cell_type": "markdown",
   "source": [
    "Exercicio 1.5: Selecionar todas as amostras com label igual a \"iris-setosa\", quantas amostras sao obtidas?"
   ],
   "metadata": {
    "collapsed": false
   }
  },
  {
   "cell_type": "code",
   "execution_count": 39,
   "outputs": [
    {
     "data": {
      "text/plain": "(50, 5)"
     },
     "execution_count": 39,
     "metadata": {},
     "output_type": "execute_result"
    }
   ],
   "source": [
    "iris = data.loc[(data[\"class\"]==\"Iris-setosa\")]\n",
    "iris.shape"
   ],
   "metadata": {
    "collapsed": false
   }
  },
  {
   "cell_type": "raw",
   "source": [
    "50 amostras com a label iris-setosa"
   ],
   "metadata": {
    "collapsed": false
   }
  },
  {
   "cell_type": "markdown",
   "source": [
    "## Exercicio 2 implementado na class Dataset do file dataset"
   ],
   "metadata": {
    "collapsed": false
   }
  },
  {
   "cell_type": "code",
   "execution_count": 40,
   "outputs": [
    {
     "name": "stdout",
     "output_type": "stream",
     "text": [
      "         0      1    2    3\n",
      "0      5.1    3.5  1.4  0.2\n",
      "1      4.9    3.0  1.4  0.2\n",
      "2      4.7  100.0  1.3  0.2\n",
      "3      4.6    3.1  1.5  0.2\n",
      "4      5.0    3.6  1.4  0.2\n",
      "..     ...    ...  ...  ...\n",
      "145    6.7    3.0  5.2  2.3\n",
      "146  100.0    2.5  5.0  1.9\n",
      "147    6.5    3.0  5.2  2.0\n",
      "148  100.0    3.4  5.4  2.3\n",
      "149    5.9    3.0  5.1  1.8\n",
      "\n",
      "[150 rows x 4 columns]\n"
     ]
    }
   ],
   "source": [
    "file = r\"C:\\Users\\35193\\Desktop\\sib\\SIB\\datasets\\iris_missing_data.csv\"\n",
    "a = read_csv(filename=file, sep=\",\", features=True, label=4)\n",
    "    # print(a.dropna())\n",
    "print(a.fillna(100))"
   ],
   "metadata": {
    "collapsed": false
   }
  }
 ],
 "metadata": {
  "kernelspec": {
   "display_name": "Python 3",
   "language": "python",
   "name": "python3"
  },
  "language_info": {
   "codemirror_mode": {
    "name": "ipython",
    "version": 2
   },
   "file_extension": ".py",
   "mimetype": "text/x-python",
   "name": "python",
   "nbconvert_exporter": "python",
   "pygments_lexer": "ipython2",
   "version": "2.7.6"
  }
 },
 "nbformat": 4,
 "nbformat_minor": 0
}
