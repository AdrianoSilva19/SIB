{
 "cells": [
  {
   "cell_type": "markdown",
   "metadata": {
    "slideshow": {
     "slide_type": "-"
    }
   },
   "source": [
    "# Ficha de trabalho - Clustering e redução dimensionalidade\n",
    "Ficheiros a usar: \n",
    "* wines.csv - ficheiro com os dados das análises\n",
    "* wines_labels.csv - labels das classes\n",
    "\n",
    "\n",
    "**Sumário:**\n",
    "\n",
    "A data frame containing 177 rows and thirteen columns. These data are the results of chemical analyses of wines grown in the same region in Italy (Piedmont) but derived from three different cultivars (classes).\n"
   ]
  },
  {
   "cell_type": "code",
   "execution_count": 1,
   "metadata": {},
   "outputs": [],
   "source": [
    "import pandas as pd\n",
    "%matplotlib inline\n",
    "import matplotlib.pyplot as plt\n",
    "from scipy import stats\n",
    "import statsmodels.api as sm\n",
    "from sklearn import preprocessing\n",
    "from scipy.cluster.hierarchy import dendrogram, linkage"
   ]
  },
  {
   "cell_type": "markdown",
   "metadata": {
    "collapsed": true
   },
   "source": [
    "1 - Importa os dados presentes nos dois ficheiros."
   ]
  },
  {
   "cell_type": "code",
   "execution_count": 2,
   "metadata": {},
   "outputs": [],
   "source": [
    "meta = pd.read_csv(\"wines_labels.csv\")\n",
    "data = pd.read_csv(\"wines.csv\")"
   ]
  },
  {
   "cell_type": "markdown",
   "metadata": {},
   "source": [
    "2 - Explora o dataset, indicando:\n",
    " * o número de amostras e atributos, \n",
    " * tipos de dados, \n",
    " * se há valores em falta."
   ]
  },
  {
   "cell_type": "code",
   "execution_count": 15,
   "metadata": {},
   "outputs": [
    {
     "name": "stdout",
     "output_type": "stream",
     "text": [
      "(177, 14)\n",
      "(177, 2)\n",
      "RangeIndex(start=0, stop=177, step=1)\n",
      "[dtype('int64'), dtype('float64'), dtype('float64'), dtype('float64'), dtype('float64'), dtype('int64'), dtype('float64'), dtype('float64'), dtype('float64'), dtype('float64'), dtype('float64'), dtype('float64'), dtype('float64'), dtype('int64')]\n",
      "   Unnamed: 0  alcohol  malic acid   ash  ash alkalinity  magnesium  \\\n",
      "0           1    13.20        1.78  2.14            11.2        100   \n",
      "1           2    13.16        2.36  2.67            18.6        101   \n",
      "2           3    14.37        1.95  2.50            16.8        113   \n",
      "3           4    13.24        2.59  2.87            21.0        118   \n",
      "4           5    14.20        1.76  2.45            15.2        112   \n",
      "\n",
      "   tot. phenols  flavonoids  non-flav. phenols  proanth  col. int.  col. hue  \\\n",
      "0          2.65        2.76               0.26     1.28       4.38      1.05   \n",
      "1          2.80        3.24               0.30     2.81       5.68      1.03   \n",
      "2          3.85        3.49               0.24     2.18       7.80      0.86   \n",
      "3          2.80        2.69               0.39     1.82       4.32      1.04   \n",
      "4          3.27        3.39               0.34     1.97       6.75      1.05   \n",
      "\n",
      "   OD ratio  proline  \n",
      "0      3.40     1050  \n",
      "1      3.17     1185  \n",
      "2      3.45     1480  \n",
      "3      2.93      735  \n",
      "4      2.85     1450  \n",
      "   Unnamed: 0       x\n",
      "0           1  Barolo\n",
      "1           2  Barolo\n",
      "2           3  Barolo\n",
      "3           4  Barolo\n",
      "4           5  Barolo\n"
     ]
    }
   ],
   "source": [
    "print(data.shape)\n",
    "print(meta.shape)\n",
    "print(data.index)\n",
    "print ([data.iloc[:,i].dtype for i in range(data.shape[1])])\n",
    "data.isnull().sum()\n",
    "print(data.head())\n",
    "print(meta.head())"
   ]
  },
  {
   "cell_type": "markdown",
   "metadata": {},
   "source": [
    "3 - Verifica se as amostras provenientes das classes \"Barolo\" e \"Barbera\" têm níveis de alcool significativamente diferentes. "
   ]
  },
  {
   "cell_type": "code",
   "execution_count": 18,
   "metadata": {},
   "outputs": [
    {
     "name": "stdout",
     "output_type": "stream",
     "text": [
      "ShapiroResult(statistic=0.981652021408081, pvalue=0.5255285501480103)\n",
      "ShapiroResult(statistic=0.981467604637146, pvalue=0.6408376097679138)\n",
      "Ttest_indResult(statistic=-6.046516305087218, pvalue=2.3479977832012858e-08)\n"
     ]
    }
   ],
   "source": [
    "barolo = data[meta[\"x\"]==\"Barolo\"][\"alcohol\"]\n",
    "barbera = data[meta[\"x\"]==\"Barbera\"][\"alcohol\"]\n",
    "\n",
    "# h0 dados seguem uma distribuição normal\n",
    "print(stats.shapiro(barolo))\n",
    "print(stats.shapiro(barbera))\n",
    "# aceitamos a hipotese nula em como os dados seguem uma distribuição normal\n",
    "\n",
    "# h0 diferença das medias é igual a 0\n",
    "print(stats.ttest_ind(barbera,barolo))\n",
    "# regeitamos a hipotese nula e assumimos que existem diferenças nas medias\n"
   ]
  },
  {
   "cell_type": "markdown",
   "metadata": {},
   "source": [
    "4 - Efectua uma análise semelhante à anterior mas considerando também a classe “Grignolino”. "
   ]
  },
  {
   "cell_type": "code",
   "execution_count": 19,
   "metadata": {},
   "outputs": [
    {
     "name": "stdout",
     "output_type": "stream",
     "text": [
      "             df     sum_sq    mean_sq           F        PR(>F)\n",
      "mydata.x    2.0  69.514462  34.757231  132.569148  1.050680e-35\n",
      "Residual  174.0  45.619651   0.262182         NaN           NaN\n",
      "  Multiple Comparison of Means - Tukey HSD, FWER=0.05   \n",
      "========================================================\n",
      " group1   group2   meandiff p-adj  lower   upper  reject\n",
      "--------------------------------------------------------\n",
      "Barbera     Barolo   0.5826   0.0  0.3464  0.8188   True\n",
      "Barbera Grignolino   -0.875  -0.0 -1.1012 -0.6488   True\n",
      " Barolo Grignolino  -1.4576  -0.0 -1.6719 -1.2434   True\n",
      "--------------------------------------------------------\n"
     ]
    }
   ],
   "source": [
    "from statsmodels.formula.api import ols\n",
    "from statsmodels.stats.anova import anova_lm\n",
    "import statsmodels.stats.multicomp as multi\n",
    "\n",
    "\n",
    "mydata = data.join(meta['x'])\n",
    "lm = ols(\"mydata.alcohol~mydata.x\", mydata).fit()\n",
    "\n",
    "print (anova_lm(lm))\n",
    "# reject HO :  p_value <0.05\n",
    "\n",
    "\n",
    "mcDate = multi.MultiComparison(mydata.alcohol,mydata.x)\n",
    "Results = mcDate.tukeyhsd()\n",
    "print(Results)"
   ]
  },
  {
   "cell_type": "markdown",
   "metadata": {},
   "source": [
    "5 - Realiza um PCA e determine quantos componentes principais são necessários para explicar 90% da variabilidade dos dados. Representa os scores num gráfico onde as cores dos pontos variam consoante a classe a que a amostra pertence. O que conclui em relação à discriminação das respetivas classes?"
   ]
  },
  {
   "cell_type": "code",
   "execution_count": 20,
   "metadata": {},
   "outputs": [
    {
     "name": "stdout",
     "output_type": "stream",
     "text": [
      "[0.38907109 0.17866953 0.10447868 0.07027314 0.0626067  0.04836858\n",
      " 0.03956637 0.02506984 0.02085772 0.01784655 0.01623083 0.01221288\n",
      " 0.00872079]\n"
     ]
    },
    {
     "data": {
      "image/png": "[encoded data removed]",
      "text/plain": [
       "<Figure size 432x288 with 1 Axes>"
      ]
     },
     "metadata": {
      "needs_background": "light"
     },
     "output_type": "display_data"
    }
   ],
   "source": [
    "from sklearn.decomposition import PCA\n",
    "data_scaled= preprocessing.scale(data)\n",
    "n=13\n",
    "pca = PCA(n_components=n)\n",
    "pca.fit(data_scaled)\n",
    "x_reduced = pca.transform(data_scaled)\n",
    "\n",
    "print (pca.explained_variance_ratio_) \n",
    "\n",
    "for casta in meta.x.unique():\n",
    "    index_samples = meta.index[meta.x==casta]-1 # -1 porque a indexação dos arrays começa em 0 e as labels do atributo index no dataframe começa em 1.\n",
    "    plt.plot(x_reduced[index_samples,0],x_reduced[index_samples,1], 'o' , label=casta)\n",
    "plt.title(\"PCA\")\n",
    "plt.legend(loc='best', shadow=False)\n",
    "plt.show()"
   ]
  },
  {
   "cell_type": "markdown",
   "metadata": {},
   "source": [
    "6 - Realizar clustering hierarquico dos dados, utilizando a métrica de distância \"Manhattan”. Apresenta a àrvore resultante colorindo as folas de acordo com a classe. O que conclui olhando para os resultados?\n"
   ]
  },
  {
   "cell_type": "code",
   "execution_count": 21,
   "metadata": {},
   "outputs": [
    {
     "data": {
      "image/png": "[encoded data removed]",
      "text/plain": [
       "<Figure size 1800x720 with 1 Axes>"
      ]
     },
     "metadata": {
      "needs_background": "light"
     },
     "output_type": "display_data"
    }
   ],
   "source": [
    "Z = linkage(data_scaled, metric='cityblock')\n",
    "\n",
    "# calculate full dendrogram\n",
    "plt.figure(figsize=(25, 10))\n",
    "dendrogram(\n",
    "    Z,\n",
    "    labels=list(meta['x']),\n",
    "    leaf_rotation=90.,  # rotates the x axis labels\n",
    "    leaf_font_size=8.,  # font size for the x axis labels\n",
    ")\n",
    "\n",
    "plt.title('Hierarchical Clustering Dendrogram')\n",
    "plt.ylabel('distance')\n",
    "\n",
    "# Assignment of colors to labels: 'a' is red, 'b' is green, etc.\n",
    "label_colors = {'Barolo': 'b', 'Grignolino': 'r', 'Barbera': 'g'}\n",
    "ax = plt.gca()\n",
    "xlbls = ax.get_xmajorticklabels()\n",
    "for lbl in xlbls:\n",
    "    lbl.set_color(label_colors[lbl.get_text()])\n",
    "\n",
    "plt.show()"
   ]
  },
  {
   "cell_type": "markdown",
   "metadata": {},
   "source": [
    "7 - Aplica a função de clustering k-means aos dados, com k =3, e compara os resultados com os presentes na variavel *wines_labels*. O que conclui desta análise? Cruze os resultados com os obtidos anteriormente."
   ]
  },
  {
   "cell_type": "code",
   "execution_count": 22,
   "metadata": {},
   "outputs": [
    {
     "data": {
      "text/html": [
       "<div>\n",
       "<style scoped>\n",
       "    .dataframe tbody tr th:only-of-type {\n",
       "        vertical-align: middle;\n",
       "    }\n",
       "\n",
       "    .dataframe tbody tr th {\n",
       "        vertical-align: top;\n",
       "    }\n",
       "\n",
       "    .dataframe thead th {\n",
       "        text-align: right;\n",
       "    }\n",
       "</style>\n",
       "<table border=\"1\" class=\"dataframe\">\n",
       "  <thead>\n",
       "    <tr style=\"text-align: right;\">\n",
       "      <th>x</th>\n",
       "      <th>Barbera</th>\n",
       "      <th>Barolo</th>\n",
       "      <th>Grignolino</th>\n",
       "    </tr>\n",
       "    <tr>\n",
       "      <th>clusters</th>\n",
       "      <th></th>\n",
       "      <th></th>\n",
       "      <th></th>\n",
       "    </tr>\n",
       "  </thead>\n",
       "  <tbody>\n",
       "    <tr>\n",
       "      <th>0</th>\n",
       "      <td>0</td>\n",
       "      <td>58</td>\n",
       "      <td>2</td>\n",
       "    </tr>\n",
       "    <tr>\n",
       "      <th>1</th>\n",
       "      <td>48</td>\n",
       "      <td>0</td>\n",
       "      <td>2</td>\n",
       "    </tr>\n",
       "    <tr>\n",
       "      <th>2</th>\n",
       "      <td>0</td>\n",
       "      <td>0</td>\n",
       "      <td>67</td>\n",
       "    </tr>\n",
       "  </tbody>\n",
       "</table>\n",
       "</div>"
      ],
      "text/plain": [
       "x         Barbera  Barolo  Grignolino\n",
       "clusters                             \n",
       "0               0      58           2\n",
       "1              48       0           2\n",
       "2               0       0          67"
      ]
     },
     "execution_count": 22,
     "metadata": {},
     "output_type": "execute_result"
    }
   ],
   "source": [
    "from sklearn.cluster import KMeans\n",
    "\n",
    "k=3\n",
    "kmeans = KMeans(n_clusters=k, max_iter=1000)\n",
    "kmeans.fit(data_scaled)\n",
    "labels = kmeans.labels_\n",
    "centroids = kmeans.cluster_centers_\n",
    "\n",
    "pd.crosstab(labels, meta[\"x\"], rownames=['clusters'] )"
   ]
  }
 ],
 "metadata": {
  "anaconda-cloud": {},
  "kernelspec": {
   "display_name": "Python 3.10.5 ('project')",
   "language": "python",
   "name": "python3"
  },
  "language_info": {
   "codemirror_mode": {
    "name": "ipython",
    "version": 3
   },
   "file_extension": ".py",
   "mimetype": "text/x-python",
   "name": "python",
   "nbconvert_exporter": "python",
   "pygments_lexer": "ipython3",
   "version": "3.10.5"
  },
  "vscode": {
   "interpreter": {
    "hash": "87ed4c6f836ee9298f938a9942cb4b6f0476771e114bec5beb3fff945a2c38d4"
   }
  }
 },
 "nbformat": 4,
 "nbformat_minor": 1
}
