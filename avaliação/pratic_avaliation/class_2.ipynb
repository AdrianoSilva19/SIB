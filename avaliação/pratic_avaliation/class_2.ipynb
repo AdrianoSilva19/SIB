{
 "cells": [
  {
   "cell_type": "markdown",
   "source": [
    "Exercicio 3 implementado no subpackage *feature_selection* no file *select_percentile*, testagem no iris dataset"
   ],
   "metadata": {
    "collapsed": false
   }
  },
  {
   "cell_type": "code",
   "execution_count": 5,
   "outputs": [
    {
     "name": "stdout",
     "output_type": "stream",
     "text": [
      "                sepal_length  sepal_width  petal_length  petal_width\n",
      "Iris-setosa              5.1          3.5           1.4          0.2\n",
      "Iris-setosa              4.9          3.0           1.4          0.2\n",
      "Iris-setosa              4.7          3.2           1.3          0.2\n",
      "Iris-setosa              4.6          3.1           1.5          0.2\n",
      "Iris-setosa              5.0          3.6           1.4          0.2\n",
      "...                      ...          ...           ...          ...\n",
      "Iris-virginica           6.7          3.0           5.2          2.3\n",
      "Iris-virginica           6.3          2.5           5.0          1.9\n",
      "Iris-virginica           6.5          3.0           5.2          2.0\n",
      "Iris-virginica           6.2          3.4           5.4          2.3\n",
      "Iris-virginica           5.9          3.0           5.1          1.8\n",
      "\n",
      "[150 rows x 4 columns]\n"
     ]
    },
    {
     "data": {
      "text/plain": "array([ 119.26450218,   47.3644614 , 1179.0343277 ,  959.32440573])"
     },
     "execution_count": 5,
     "metadata": {},
     "output_type": "execute_result"
    }
   ],
   "source": [
    "from src.si.feature_selection.select_percentil import SelectPercentile\n",
    "from src.si.io.csv_file import read_csv\n",
    "\n",
    "file = r\"C:\\Users\\35193\\Desktop\\sib\\SIB\\datasets\\iris.csv\"\n",
    "data = read_csv(filename=file,label=True, features=True)\n",
    "print(data.print_dataframe())\n",
    "test = SelectPercentile(percentile=0.25)\n",
    "test.fit_transform(data)\n",
    "test.F"
   ],
   "metadata": {
    "collapsed": false
   }
  },
  {
   "cell_type": "code",
   "execution_count": 6,
   "outputs": [
    {
     "data": {
      "text/plain": "                petal_length\nIris-setosa              1.4\nIris-setosa              1.4\nIris-setosa              1.3\nIris-setosa              1.5\nIris-setosa              1.4\n...                      ...\nIris-virginica           5.2\nIris-virginica           5.0\nIris-virginica           5.2\nIris-virginica           5.4\nIris-virginica           5.1\n\n[150 rows x 1 columns]",
      "text/html": "<div>\n<style scoped>\n    .dataframe tbody tr th:only-of-type {\n        vertical-align: middle;\n    }\n\n    .dataframe tbody tr th {\n        vertical-align: top;\n    }\n\n    .dataframe thead th {\n        text-align: right;\n    }\n</style>\n<table border=\"1\" class=\"dataframe\">\n  <thead>\n    <tr style=\"text-align: right;\">\n      <th></th>\n      <th>petal_length</th>\n    </tr>\n  </thead>\n  <tbody>\n    <tr>\n      <th>Iris-setosa</th>\n      <td>1.4</td>\n    </tr>\n    <tr>\n      <th>Iris-setosa</th>\n      <td>1.4</td>\n    </tr>\n    <tr>\n      <th>Iris-setosa</th>\n      <td>1.3</td>\n    </tr>\n    <tr>\n      <th>Iris-setosa</th>\n      <td>1.5</td>\n    </tr>\n    <tr>\n      <th>Iris-setosa</th>\n      <td>1.4</td>\n    </tr>\n    <tr>\n      <th>...</th>\n      <td>...</td>\n    </tr>\n    <tr>\n      <th>Iris-virginica</th>\n      <td>5.2</td>\n    </tr>\n    <tr>\n      <th>Iris-virginica</th>\n      <td>5.0</td>\n    </tr>\n    <tr>\n      <th>Iris-virginica</th>\n      <td>5.2</td>\n    </tr>\n    <tr>\n      <th>Iris-virginica</th>\n      <td>5.4</td>\n    </tr>\n    <tr>\n      <th>Iris-virginica</th>\n      <td>5.1</td>\n    </tr>\n  </tbody>\n</table>\n<p>150 rows × 1 columns</p>\n</div>"
     },
     "execution_count": 6,
     "metadata": {},
     "output_type": "execute_result"
    }
   ],
   "source": [
    "iris = test.fit_transform(data)\n",
    "iris.print_dataframe()"
   ],
   "metadata": {
    "collapsed": false
   }
  },
  {
   "cell_type": "raw",
   "source": [
    "A melhor feature neste modelo é a petal length"
   ],
   "metadata": {
    "collapsed": false
   }
  }
 ],
 "metadata": {
  "kernelspec": {
   "display_name": "Python 3",
   "language": "python",
   "name": "python3"
  },
  "language_info": {
   "codemirror_mode": {
    "name": "ipython",
    "version": 2
   },
   "file_extension": ".py",
   "mimetype": "text/x-python",
   "name": "python",
   "nbconvert_exporter": "python",
   "pygments_lexer": "ipython2",
   "version": "2.7.6"
  }
 },
 "nbformat": 4,
 "nbformat_minor": 0
}
